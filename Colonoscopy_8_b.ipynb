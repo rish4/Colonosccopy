{
  "nbformat": 4,
  "nbformat_minor": 0,
  "metadata": {
    "colab": {
      "name": "Colonoscopy-8.ipynb",
      "provenance": [],
      "collapsed_sections": [],
      "mount_file_id": "1XmrxgHC9Q1G8J-EyOeR2iWE-PF0HZjKQ",
      "authorship_tag": "ABX9TyOAO5Sx7ZiHC1ro9G4x1QKg",
      "include_colab_link": true
    },
    "kernelspec": {
      "name": "python3",
      "display_name": "Python 3"
    }
  },
  "cells": [
    {
      "cell_type": "markdown",
      "metadata": {
        "id": "view-in-github",
        "colab_type": "text"
      },
      "source": [
        "<a href=\"https://colab.research.google.com/github/rish4/Colonoscopy/blob/master/Colonoscopy_8_b.ipynb\" target=\"_parent\"><img src=\"https://colab.research.google.com/assets/colab-badge.svg\" alt=\"Open In Colab\"/></a>"
      ]
    },
    {
      "cell_type": "code",
      "metadata": {
        "id": "aqGNLlvsUXX5",
        "colab_type": "code",
        "colab": {
          "base_uri": "https://localhost:8080/",
          "height": 88
        },
        "outputId": "64b253d7-65f6-4362-d098-cf839a8479bf"
      },
      "source": [
        "import numpy as np \n",
        "import matplotlib.pyplot as plt\n",
        "import pandas as pd\n",
        "import seaborn as sns\n",
        "from sklearn.metrics import classification_report, confusion_matrix\n",
        "from sklearn.metrics import roc_curve\n",
        "from sklearn.metrics import roc_auc_score\n",
        "from sklearn.metrics import auc\n",
        "import keras\n",
        "import tensorflow as tf\n",
        "from keras import backend as K\n",
        "from keras import metrics\n",
        "from keras.regularizers import l2\n",
        "from keras.models import Sequential\n",
        "from keras.layers import Conv2D, MaxPooling2D, Flatten, Dense, Dropout, BatchNormalization, InputLayer, Activation\n",
        "from keras.preprocessing.image import ImageDataGenerator\n",
        "from keras.metrics import AUC\n",
        "from keras.optimizers import Adam\n",
        "from keras.callbacks import EarlyStopping\n",
        "from sklearn.metrics import classification_report, confusion_matrix"
      ],
      "execution_count": 1,
      "outputs": [
        {
          "output_type": "stream",
          "text": [
            "/usr/local/lib/python3.6/dist-packages/statsmodels/tools/_testing.py:19: FutureWarning: pandas.util.testing is deprecated. Use the functions in the public API at pandas.testing instead.\n",
            "  import pandas.util.testing as tm\n",
            "Using TensorFlow backend.\n"
          ],
          "name": "stderr"
        }
      ]
    },
    {
      "cell_type": "code",
      "metadata": {
        "id": "MwLh236XUe4t",
        "colab_type": "code",
        "colab": {
          "base_uri": "https://localhost:8080/",
          "height": 51
        },
        "outputId": "cfed7097-27d4-48ec-8b90-9fd4b1897bd1"
      },
      "source": [
        "## Set file paths to image files\n",
        "#project_path = \"/Users/hellojenny/Metis/Metis-Bootcamp/Projects/Project 5 - Image Prediction using CNN\"\n",
        "train_path = \"/content/drive/My Drive/Dataset-5/Training set\"\n",
        "#val_path = project_path + \"/chest_xray/val/\"\n",
        "test_path = \"/content/drive/My Drive/Dataset-5/Test set\"\n",
        "\n",
        "## Set up hyperparameters that will be used later\n",
        "hyper_dimension = 64\n",
        "hyper_batch_size = 32\n",
        "hyper_epochs = 100\n",
        "hyper_channels = 3\n",
        "hyper_mode = 'rgb'\n",
        "\n",
        "## Generate batches of image data (train, validation, and test) with data augmentation\n",
        "train_datagen = ImageDataGenerator(rescale=1.0/255.0, \n",
        "                                   shear_range = 0.2,\n",
        "                                   zoom_range = 0.2, \n",
        "                                   horizontal_flip = True)\n",
        "#val_datagen = ImageDataGenerator(rescale=1.0/255.0) \n",
        "test_datagen = ImageDataGenerator(rescale=1.0/255.0) \n",
        "\n",
        "\n",
        "train_generator = train_datagen.flow_from_directory(directory = train_path, \n",
        "                                                    target_size = (hyper_dimension, hyper_dimension),\n",
        "                                                    batch_size = hyper_batch_size, \n",
        "                                                    color_mode = hyper_mode,\n",
        "                                                    class_mode = 'binary', \n",
        "                                                    seed = 42)\n",
        "'''val_generator = val_datagen.flow_from_directory(directory = val_path, \n",
        "                                                 target_size = (hyper_dimension, hyper_dimension),\n",
        "                                                 batch_size = hyper_batch_size, \n",
        "                                                 class_mode = 'binary',\n",
        "                                                 color_mode = hyper_mode,\n",
        "                                                 shuffle=False,\n",
        "                                                 seed = 42)'''\n",
        "test_generator = test_datagen.flow_from_directory(directory = test_path, \n",
        "                                                 target_size = (hyper_dimension, hyper_dimension),\n",
        "                                                 batch_size = hyper_batch_size, \n",
        "                                                 class_mode = 'binary',\n",
        "                                                 color_mode = hyper_mode,\n",
        "                                                 shuffle=False,\n",
        "                                                 seed = 42)\n",
        "\n",
        "test_generator.reset()"
      ],
      "execution_count": 2,
      "outputs": [
        {
          "output_type": "stream",
          "text": [
            "Found 1580 images belonging to 2 classes.\n",
            "Found 395 images belonging to 2 classes.\n"
          ],
          "name": "stdout"
        }
      ]
    },
    {
      "cell_type": "code",
      "metadata": {
        "id": "UqQ3hEh1Ut4O",
        "colab_type": "code",
        "colab": {
          "base_uri": "https://localhost:8080/",
          "height": 1000
        },
        "outputId": "b3363cf3-f8ea-403e-ead7-04ff307c3490"
      },
      "source": [
        "cnn = Sequential()\n",
        "cnn.add(InputLayer(input_shape=(hyper_dimension, hyper_dimension, hyper_channels)))\n",
        "\n",
        "cnn.add(Conv2D(filters=16, kernel_size=3, activation='relu'))\n",
        "cnn.add(MaxPooling2D(pool_size=(2,2)))\n",
        "\n",
        "cnn.add(Conv2D(filters=32, kernel_size=3, activation='relu'))\n",
        "cnn.add(MaxPooling2D(pool_size=(2,2)))\n",
        "\n",
        "cnn.add(Conv2D(filters=64, kernel_size=3, activation='relu'))\n",
        "cnn.add(MaxPooling2D(pool_size=(2,2)))\n",
        "\n",
        "cnn.add(Flatten())\n",
        "\n",
        "cnn.add(Dense(activation='relu', units=128))\n",
        "cnn.add(Dense(activation='sigmoid', units=1))\n",
        "\n",
        "cnn.summary()\n",
        "\n",
        "cnn.compile(optimizer= 'adam', loss='binary_crossentropy', metrics=[AUC()])\n",
        "cnn_model = cnn.fit_generator(train_generator, \n",
        "                              steps_per_epoch = len(train_generator), \n",
        "                              epochs = 20, \n",
        "                              validation_data = test_generator,\n",
        "                              validation_steps = len(test_generator)\n",
        "                              )"
      ],
      "execution_count": 3,
      "outputs": [
        {
          "output_type": "stream",
          "text": [
            "Model: \"sequential_1\"\n",
            "_________________________________________________________________\n",
            "Layer (type)                 Output Shape              Param #   \n",
            "=================================================================\n",
            "conv2d_1 (Conv2D)            (None, 62, 62, 16)        448       \n",
            "_________________________________________________________________\n",
            "max_pooling2d_1 (MaxPooling2 (None, 31, 31, 16)        0         \n",
            "_________________________________________________________________\n",
            "conv2d_2 (Conv2D)            (None, 29, 29, 32)        4640      \n",
            "_________________________________________________________________\n",
            "max_pooling2d_2 (MaxPooling2 (None, 14, 14, 32)        0         \n",
            "_________________________________________________________________\n",
            "conv2d_3 (Conv2D)            (None, 12, 12, 64)        18496     \n",
            "_________________________________________________________________\n",
            "max_pooling2d_3 (MaxPooling2 (None, 6, 6, 64)          0         \n",
            "_________________________________________________________________\n",
            "flatten_1 (Flatten)          (None, 2304)              0         \n",
            "_________________________________________________________________\n",
            "dense_1 (Dense)              (None, 128)               295040    \n",
            "_________________________________________________________________\n",
            "dense_2 (Dense)              (None, 1)                 129       \n",
            "=================================================================\n",
            "Total params: 318,753\n",
            "Trainable params: 318,753\n",
            "Non-trainable params: 0\n",
            "_________________________________________________________________\n",
            "Epoch 1/20\n",
            "50/50 [==============================] - 1036s 21s/step - loss: 0.6325 - auc_1: 0.6935 - val_loss: 0.3919 - val_auc_1: 0.8758\n",
            "Epoch 2/20\n",
            "50/50 [==============================] - 32s 638ms/step - loss: 0.4944 - auc_1: 0.8394 - val_loss: 0.9417 - val_auc_1: 0.8814\n",
            "Epoch 3/20\n",
            "50/50 [==============================] - 37s 742ms/step - loss: 0.4446 - auc_1: 0.8717 - val_loss: 0.3125 - val_auc_1: 0.9200\n",
            "Epoch 4/20\n",
            "50/50 [==============================] - 37s 743ms/step - loss: 0.3571 - auc_1: 0.9188 - val_loss: 0.3037 - val_auc_1: 0.9432\n",
            "Epoch 5/20\n",
            "50/50 [==============================] - 37s 746ms/step - loss: 0.3434 - auc_1: 0.9251 - val_loss: 0.2088 - val_auc_1: 0.9322\n",
            "Epoch 6/20\n",
            "50/50 [==============================] - 37s 737ms/step - loss: 0.3223 - auc_1: 0.9357 - val_loss: 0.2252 - val_auc_1: 0.9495\n",
            "Epoch 7/20\n",
            "50/50 [==============================] - 37s 742ms/step - loss: 0.2810 - auc_1: 0.9517 - val_loss: 0.1559 - val_auc_1: 0.9367\n",
            "Epoch 8/20\n",
            "50/50 [==============================] - 37s 731ms/step - loss: 0.2777 - auc_1: 0.9532 - val_loss: 0.0754 - val_auc_1: 0.9428\n",
            "Epoch 9/20\n",
            "50/50 [==============================] - 37s 736ms/step - loss: 0.2389 - auc_1: 0.9656 - val_loss: 0.4628 - val_auc_1: 0.8929\n",
            "Epoch 10/20\n",
            "50/50 [==============================] - 37s 749ms/step - loss: 0.2608 - auc_1: 0.9574 - val_loss: 0.0632 - val_auc_1: 0.9576\n",
            "Epoch 11/20\n",
            "50/50 [==============================] - 37s 744ms/step - loss: 0.2663 - auc_1: 0.9569 - val_loss: 0.0972 - val_auc_1: 0.9515\n",
            "Epoch 12/20\n",
            "50/50 [==============================] - 37s 732ms/step - loss: 0.2175 - auc_1: 0.9711 - val_loss: 0.0649 - val_auc_1: 0.9581\n",
            "Epoch 13/20\n",
            "50/50 [==============================] - 37s 739ms/step - loss: 0.2161 - auc_1: 0.9715 - val_loss: 0.0714 - val_auc_1: 0.9026\n",
            "Epoch 14/20\n",
            "50/50 [==============================] - 37s 731ms/step - loss: 0.2210 - auc_1: 0.9702 - val_loss: 0.0534 - val_auc_1: 0.9464\n",
            "Epoch 15/20\n",
            "50/50 [==============================] - 37s 741ms/step - loss: 0.2144 - auc_1: 0.9722 - val_loss: 0.0764 - val_auc_1: 0.9568\n",
            "Epoch 16/20\n",
            "50/50 [==============================] - 37s 746ms/step - loss: 0.1953 - auc_1: 0.9772 - val_loss: 0.0616 - val_auc_1: 0.9687\n",
            "Epoch 17/20\n",
            "50/50 [==============================] - 37s 744ms/step - loss: 0.1833 - auc_1: 0.9796 - val_loss: 0.0807 - val_auc_1: 0.9554\n",
            "Epoch 18/20\n",
            "50/50 [==============================] - 37s 745ms/step - loss: 0.1967 - auc_1: 0.9763 - val_loss: 0.1138 - val_auc_1: 0.9624\n",
            "Epoch 19/20\n",
            "50/50 [==============================] - 38s 752ms/step - loss: 0.1813 - auc_1: 0.9794 - val_loss: 0.0417 - val_auc_1: 0.9663\n",
            "Epoch 20/20\n",
            "50/50 [==============================] - 37s 739ms/step - loss: 0.1696 - auc_1: 0.9826 - val_loss: 0.1227 - val_auc_1: 0.9629\n"
          ],
          "name": "stdout"
        }
      ]
    },
    {
      "cell_type": "code",
      "metadata": {
        "id": "8RFBFhlFUzl_",
        "colab_type": "code",
        "colab": {}
      },
      "source": [
        "def create_charts(cnn, cnn_model):\n",
        "    ## DEFINE ##\n",
        "    ## Define 1:  train & validation loss\n",
        "    train_loss = cnn_model.history['loss']\n",
        "    val_loss = cnn_model.history['val_loss']\n",
        "    \n",
        "    ## Define 2: train & validation AUC\n",
        "    train_auc_name = list(cnn_model.history.keys())[3]\n",
        "    val_auc_name = list(cnn_model.history.keys())[1]\n",
        "    train_auc = cnn_model.history[train_auc_name]\n",
        "    val_auc = cnn_model.history[val_auc_name]\n",
        "    \n",
        "    ## Define 3: y_pred & y_true\n",
        "    y_true = test_generator.classes\n",
        "    #print(y_true)\n",
        "    Y_pred = cnn.predict_generator(test_generator, steps = len(test_generator))\n",
        "    y_pred = (Y_pred > 0.5).T[0]\n",
        "    #print(y_pred)\n",
        "    y_pred_prob = Y_pred.T[0]\n",
        "    #print(y_pred_prob)\n",
        "    \n",
        "    ## PLOT ##\n",
        "    fig = plt.figure(figsize=(13, 10))\n",
        "    \n",
        "    ## PLOT 1: TRAIN VS. VALIDATION LOSS \n",
        "    plt.subplot(2,2,1)\n",
        "    plt.title(\"Training vs. Validation Loss\")\n",
        "    plt.plot(train_loss, label='training loss')\n",
        "    plt.plot(val_loss, label='validation loss')\n",
        "    plt.xlabel(\"Number of Epochs\", size=14)\n",
        "    plt.legend()\n",
        "\n",
        "    ## PLOT 2: TRAIN VS. VALIDATION AUC\n",
        "    plt.subplot(2,2,2)\n",
        "    plt.title(\"Training vs. Validation AUC Score\")\n",
        "    plt.plot(train_auc, label='training auc')\n",
        "    plt.plot(val_auc, label='validation auc')\n",
        "    plt.xlabel(\"Number of Epochs\", size=14)\n",
        "    plt.legend()\n",
        "    \n",
        "    ## PLOT 3: CONFUSION MATRIX\n",
        "    plt.subplot(2,2,3)\n",
        "      # Set up the labels for in the confusion matrix\n",
        "    cm = confusion_matrix(y_true, y_pred)\n",
        "    names = ['True Negatives', 'False Positives', 'False Negatives', 'True Positives']\n",
        "    counts = ['{0:0.0f}'.format(value) for value in cm.flatten()]\n",
        "    percentages = ['{0:.2%}'.format(value) for value in cm.flatten()/np.sum(cm)]\n",
        "    labels = [f'{v1}\\n{v2}' for v1, v2 in zip(names, percentages)]\n",
        "    labels = np.asarray(labels).reshape(2,2)\n",
        "    ticklabels = ['Normal', 'Abnormal']\n",
        "\n",
        "      # Create confusion matrix as heatmap\n",
        "    sns.set(font_scale = 1.4)\n",
        "    ax = sns.heatmap(cm, annot=labels, fmt='', cmap='Oranges', xticklabels=ticklabels, yticklabels=ticklabels )\n",
        "    plt.xticks(size=12)\n",
        "    plt.yticks(size=12)\n",
        "    plt.title(\"Confusion Matrix\") #plt.title(\"Confusion Matrix\\n\", fontsize=10)\n",
        "    plt.xlabel(\"Predicted\", size=14)\n",
        "    plt.ylabel(\"Actual\", size=14) \n",
        "    #plt.savefig('cm.png', transparent=True) \n",
        "    \n",
        "    ## PLOT 4: ROC CURVE\n",
        "    plt.subplot(2,2,4)\n",
        "    fpr, tpr, thresholds = roc_curve(y_true, y_pred_prob)\n",
        "    auc = roc_auc_score(y_true, y_pred_prob)\n",
        "    plt.title('ROC Curve')\n",
        "    plt.plot([0, 1], [0, 1], 'k--', label = \"Random (AUC = 50%)\")\n",
        "    plt.plot(fpr, tpr, label='CNN (AUC = {:.2f}%)'.format(auc*100))\n",
        "    plt.xlabel('False Positive Rate', size=14)\n",
        "    plt.ylabel('True Positive Rate', size=14)\n",
        "    plt.legend(loc='best')\n",
        "    #plt.savefig('roc.png', bbox_inches='tight', pad_inches=1)\n",
        "    \n",
        "    ## END PLOTS\n",
        "    plt.tight_layout()\n",
        "    ;\n",
        "    \n",
        "    ## Summary Statistics\n",
        "    TN, FP, FN, TP = cm.ravel() # cm[0,0], cm[0, 1], cm[1, 0], cm[1, 1]\n",
        "    accuracy = (TP + TN) / np.sum(cm) # % positive out of all predicted positives\n",
        "    precision = TP / (TP+FP) # % positive out of all predicted positives\n",
        "    recall =  TP / (TP+FN) # % positive out of all supposed to be positives\n",
        "    specificity = TN / (TN+FP) # % negative out of all supposed to be negatives\n",
        "    f1 = 2*precision*recall / (precision + recall)\n",
        "    stats_summary = '[Summary Statistics]\\nAccuracy = {:.2%} | Precision = {:.2%} | Recall = {:.2%} | Specificity = {:.2%} | F1 Score = {:.2%}'.format(accuracy, precision, recall, specificity, f1)\n",
        "    print(stats_summary)"
      ],
      "execution_count": 4,
      "outputs": []
    },
    {
      "cell_type": "code",
      "metadata": {
        "id": "okGxPshxg86X",
        "colab_type": "code",
        "colab": {
          "base_uri": "https://localhost:8080/",
          "height": 749
        },
        "outputId": "fc82d2f8-72b3-4f09-a323-66cfafe0e46f"
      },
      "source": [
        "create_charts(cnn, cnn_model)"
      ],
      "execution_count": 5,
      "outputs": [
        {
          "output_type": "stream",
          "text": [
            "[Summary Statistics]\n",
            "Accuracy = 88.61% | Precision = 88.29% | Recall = 91.16% | Specificity = 85.56% | F1 Score = 89.70%\n"
          ],
          "name": "stdout"
        },
        {
          "output_type": "display_data",
          "data": {
            "image/png": "[encoded data removed]",
            "text/plain": [
              "<Figure size 936x720 with 5 Axes>"
            ]
          },
          "metadata": {
            "tags": [],
            "needs_background": "light"
          }
        }
      ]
    },
    {
      "cell_type": "code",
      "metadata": {
        "id": "jnOijmdIhCuT",
        "colab_type": "code",
        "colab": {
          "base_uri": "https://localhost:8080/",
          "height": 34
        },
        "outputId": "36f7126f-a9a6-456e-ad41-332e4550009f"
      },
      "source": [
        "import numpy as np\n",
        "from keras.preprocessing import image\n",
        "test_image= image.load_img('/content/drive/My Drive/CVC-Clinic/130 (2).jpg', target_size=(64,64))\n",
        "test_image=image.img_to_array(test_image)\n",
        "test_image= np.expand_dims(test_image, axis=0)\n",
        "result=cnn.predict(test_image)\n",
        "print(result)\n",
        "if result[0][0] == 1:\n",
        "  prediction= 'Abnormal'\n",
        "else:\n",
        "  prediction= 'Normal'"
      ],
      "execution_count": 10,
      "outputs": [
        {
          "output_type": "stream",
          "text": [
            "[[1.]]\n"
          ],
          "name": "stdout"
        }
      ]
    },
    {
      "cell_type": "code",
      "metadata": {
        "id": "BGtwSx7OzQZT",
        "colab_type": "code",
        "colab": {
          "base_uri": "https://localhost:8080/",
          "height": 34
        },
        "outputId": "0edc4c0f-f2dc-4825-df02-701a71a67acd"
      },
      "source": [
        "print(prediction)"
      ],
      "execution_count": 11,
      "outputs": [
        {
          "output_type": "stream",
          "text": [
            "Abnormal\n"
          ],
          "name": "stdout"
        }
      ]
    },
    {
      "cell_type": "code",
      "metadata": {
        "id": "6niuuxgLzU38",
        "colab_type": "code",
        "colab": {
          "base_uri": "https://localhost:8080/",
          "height": 34
        },
        "outputId": "65360e8a-3bec-4099-a665-78be59a38266"
      },
      "source": [
        "import numpy as np\n",
        "from keras.preprocessing import image\n",
        "test_image= image.load_img('/content/drive/My Drive/CVC-Clinic/354.jpg', target_size=(64,64))\n",
        "test_image=image.img_to_array(test_image)\n",
        "test_image= np.expand_dims(test_image, axis=0)\n",
        "result=cnn.predict(test_image)\n",
        "print(result)\n",
        "if result[0][0] == 1:\n",
        "  prediction= 'Abnormal'\n",
        "else:\n",
        "  prediction= 'Normal'"
      ],
      "execution_count": 12,
      "outputs": [
        {
          "output_type": "stream",
          "text": [
            "[[1.]]\n"
          ],
          "name": "stdout"
        }
      ]
    },
    {
      "cell_type": "code",
      "metadata": {
        "id": "R8U6S_alzzp8",
        "colab_type": "code",
        "colab": {
          "base_uri": "https://localhost:8080/",
          "height": 34
        },
        "outputId": "f779f4fe-af7f-42eb-ac10-b27c885843e5"
      },
      "source": [
        "print(prediction)"
      ],
      "execution_count": 13,
      "outputs": [
        {
          "output_type": "stream",
          "text": [
            "Abnormal\n"
          ],
          "name": "stdout"
        }
      ]
    },
    {
      "cell_type": "code",
      "metadata": {
        "id": "VxaZmQQLzpEs",
        "colab_type": "code",
        "colab": {
          "base_uri": "https://localhost:8080/",
          "height": 34
        },
        "outputId": "cd5dccde-f301-4c8f-bd46-3f0db8594241"
      },
      "source": [
        "import numpy as np\n",
        "from keras.preprocessing import image\n",
        "test_image= image.load_img('/content/drive/My Drive/CVC-Clinic/454.jpg', target_size=(64,64))\n",
        "test_image=image.img_to_array(test_image)\n",
        "test_image= np.expand_dims(test_image, axis=0)\n",
        "result=cnn.predict(test_image)\n",
        "print(result)\n",
        "if result[0][0] == 1:\n",
        "  prediction= 'Abnormal'\n",
        "else:\n",
        "  prediction= 'Normal'"
      ],
      "execution_count": 14,
      "outputs": [
        {
          "output_type": "stream",
          "text": [
            "[[1.]]\n"
          ],
          "name": "stdout"
        }
      ]
    },
    {
      "cell_type": "code",
      "metadata": {
        "id": "at1cxR-8z75g",
        "colab_type": "code",
        "colab": {
          "base_uri": "https://localhost:8080/",
          "height": 34
        },
        "outputId": "968db27c-20a8-49ca-d49d-e083ef49f4dd"
      },
      "source": [
        "print(prediction)"
      ],
      "execution_count": 15,
      "outputs": [
        {
          "output_type": "stream",
          "text": [
            "Abnormal\n"
          ],
          "name": "stdout"
        }
      ]
    },
    {
      "cell_type": "code",
      "metadata": {
        "id": "80qhhsTVzp7U",
        "colab_type": "code",
        "colab": {
          "base_uri": "https://localhost:8080/",
          "height": 34
        },
        "outputId": "27ad026d-758a-455c-ea7a-30d417b7b99d"
      },
      "source": [
        "import numpy as np\n",
        "from keras.preprocessing import image\n",
        "test_image= image.load_img('/content/drive/My Drive/CVC-Clinic/512.jpg', target_size=(64,64))\n",
        "test_image=image.img_to_array(test_image)\n",
        "test_image= np.expand_dims(test_image, axis=0)\n",
        "result=cnn.predict(test_image)\n",
        "print(result)\n",
        "if result[0][0] == 1:\n",
        "  prediction= 'Abnormal'\n",
        "else:\n",
        "  prediction= 'Normal'"
      ],
      "execution_count": 16,
      "outputs": [
        {
          "output_type": "stream",
          "text": [
            "[[1.]]\n"
          ],
          "name": "stdout"
        }
      ]
    },
    {
      "cell_type": "code",
      "metadata": {
        "id": "oM4WoGoB0JJD",
        "colab_type": "code",
        "colab": {
          "base_uri": "https://localhost:8080/",
          "height": 34
        },
        "outputId": "8c305f9a-85cd-46fe-dd05-b3de0e30485c"
      },
      "source": [
        "print(prediction)"
      ],
      "execution_count": 17,
      "outputs": [
        {
          "output_type": "stream",
          "text": [
            "Abnormal\n"
          ],
          "name": "stdout"
        }
      ]
    },
    {
      "cell_type": "code",
      "metadata": {
        "id": "Jq_fn2QEzq0b",
        "colab_type": "code",
        "colab": {
          "base_uri": "https://localhost:8080/",
          "height": 34
        },
        "outputId": "4d303895-ba8d-45f9-d2f2-97788a276333"
      },
      "source": [
        "import numpy as np\n",
        "from keras.preprocessing import image\n",
        "test_image= image.load_img('/content/drive/My Drive/CVC-Clinic/535.jpg', target_size=(64,64))\n",
        "test_image=image.img_to_array(test_image)\n",
        "test_image= np.expand_dims(test_image, axis=0)\n",
        "result=cnn.predict(test_image)\n",
        "print(result)\n",
        "if result[0][0] == 1:\n",
        "  prediction= 'Abnormal'\n",
        "else:\n",
        "  prediction= 'Normal'"
      ],
      "execution_count": 18,
      "outputs": [
        {
          "output_type": "stream",
          "text": [
            "[[9.644609e-38]]\n"
          ],
          "name": "stdout"
        }
      ]
    },
    {
      "cell_type": "code",
      "metadata": {
        "id": "16bZqhww0Q9Y",
        "colab_type": "code",
        "colab": {
          "base_uri": "https://localhost:8080/",
          "height": 34
        },
        "outputId": "96cf1f03-910f-4201-81c4-346341fc7a6e"
      },
      "source": [
        "print(prediction)"
      ],
      "execution_count": 19,
      "outputs": [
        {
          "output_type": "stream",
          "text": [
            "Normal\n"
          ],
          "name": "stdout"
        }
      ]
    },
    {
      "cell_type": "code",
      "metadata": {
        "id": "LFGMSrbvzrfi",
        "colab_type": "code",
        "colab": {
          "base_uri": "https://localhost:8080/",
          "height": 34
        },
        "outputId": "f04b0609-26c2-47ba-abeb-ea5d2cfb0548"
      },
      "source": [
        "import numpy as np\n",
        "from keras.preprocessing import image\n",
        "test_image= image.load_img('/content/drive/My Drive/CVC-Clinic/539.jpg', target_size=(64,64))\n",
        "test_image=image.img_to_array(test_image)\n",
        "test_image= np.expand_dims(test_image, axis=0)\n",
        "result=cnn.predict(test_image)\n",
        "print(result)\n",
        "if result[0][0] == 1:\n",
        "  prediction= 'Abnormal'\n",
        "else:\n",
        "  prediction= 'Normal'"
      ],
      "execution_count": 20,
      "outputs": [
        {
          "output_type": "stream",
          "text": [
            "[[1.]]\n"
          ],
          "name": "stdout"
        }
      ]
    },
    {
      "cell_type": "code",
      "metadata": {
        "id": "qz-zX_u00a-p",
        "colab_type": "code",
        "colab": {
          "base_uri": "https://localhost:8080/",
          "height": 34
        },
        "outputId": "8f486024-5286-45aa-8403-35715482e423"
      },
      "source": [
        "print(prediction)"
      ],
      "execution_count": 21,
      "outputs": [
        {
          "output_type": "stream",
          "text": [
            "Abnormal\n"
          ],
          "name": "stdout"
        }
      ]
    },
    {
      "cell_type": "code",
      "metadata": {
        "id": "BFAhWbWMzsLv",
        "colab_type": "code",
        "colab": {
          "base_uri": "https://localhost:8080/",
          "height": 34
        },
        "outputId": "45020a91-071b-4995-f1c1-b4ea3ea7d620"
      },
      "source": [
        "import numpy as np\n",
        "from keras.preprocessing import image\n",
        "test_image= image.load_img('/content/drive/My Drive/CVC-Clinic/546.jpg', target_size=(64,64))\n",
        "test_image=image.img_to_array(test_image)\n",
        "test_image= np.expand_dims(test_image, axis=0)\n",
        "result=cnn.predict(test_image)\n",
        "print(result)\n",
        "if result[0][0] == 1:\n",
        "  prediction= 'Abnormal'\n",
        "else:\n",
        "  prediction= 'Normal'"
      ],
      "execution_count": 22,
      "outputs": [
        {
          "output_type": "stream",
          "text": [
            "[[1.]]\n"
          ],
          "name": "stdout"
        }
      ]
    },
    {
      "cell_type": "code",
      "metadata": {
        "id": "zlKQgl_a0iL6",
        "colab_type": "code",
        "colab": {
          "base_uri": "https://localhost:8080/",
          "height": 34
        },
        "outputId": "1e61e72b-5aaf-4c59-de0c-3c46412fadbf"
      },
      "source": [
        "print(prediction)"
      ],
      "execution_count": 23,
      "outputs": [
        {
          "output_type": "stream",
          "text": [
            "Abnormal\n"
          ],
          "name": "stdout"
        }
      ]
    },
    {
      "cell_type": "code",
      "metadata": {
        "id": "p24mtXGYzs5H",
        "colab_type": "code",
        "colab": {
          "base_uri": "https://localhost:8080/",
          "height": 34
        },
        "outputId": "d9c45fd3-9250-44e6-969c-49da4e2ada38"
      },
      "source": [
        "import numpy as np\n",
        "from keras.preprocessing import image\n",
        "test_image= image.load_img('/content/drive/My Drive/CVC-Clinic/93.jpg', target_size=(64,64))\n",
        "test_image=image.img_to_array(test_image)\n",
        "test_image= np.expand_dims(test_image, axis=0)\n",
        "result=cnn.predict(test_image)\n",
        "print(result)\n",
        "if result[0][0] == 1:\n",
        "  prediction= 'Abnormal'\n",
        "else:\n",
        "  prediction= 'Normal'"
      ],
      "execution_count": 24,
      "outputs": [
        {
          "output_type": "stream",
          "text": [
            "[[1.]]\n"
          ],
          "name": "stdout"
        }
      ]
    },
    {
      "cell_type": "code",
      "metadata": {
        "id": "Hr7EPrtN0pKo",
        "colab_type": "code",
        "colab": {
          "base_uri": "https://localhost:8080/",
          "height": 34
        },
        "outputId": "0cbed678-fad4-49af-dcca-c2d866191324"
      },
      "source": [
        "print(prediction)"
      ],
      "execution_count": 25,
      "outputs": [
        {
          "output_type": "stream",
          "text": [
            "Abnormal\n"
          ],
          "name": "stdout"
        }
      ]
    },
    {
      "cell_type": "code",
      "metadata": {
        "id": "42_2onnU0rYO",
        "colab_type": "code",
        "colab": {}
      },
      "source": [
        ""
      ],
      "execution_count": null,
      "outputs": []
    }
  ]
}